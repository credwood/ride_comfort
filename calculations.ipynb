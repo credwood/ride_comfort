{
 "cells": [
  {
   "cell_type": "code",
   "execution_count": null,
   "id": "0f6d8527",
   "metadata": {},
   "outputs": [],
   "source": [
    "from analysis.loaders import load_rave_and_nonrave\n",
    "from analysis.metrics import (\n",
    "    compute_nmv, compute_nvd, compute_av,\n",
    "    compute_vdv, compute_vdv_ratios\n",
    ")\n",
    "from analysis.categories import categorize\n",
    "from analysis.plotting import (\n",
    "    plot_comfort_thresholds,\n",
    "    plot_vdv_over_time,\n",
    "    plot_ratio_comparison,\n",
    "    plot_comfort_timeseries,\n",
    "    plot_iso_timeseries\n",
    ")\n",
    "\n",
    "import numpy as np\n",
    "import pandas as pd"
   ]
  },
  {
   "cell_type": "code",
   "execution_count": null,
   "id": "24e648c4",
   "metadata": {},
   "outputs": [],
   "source": [
    "# Category definitions\n",
    "categories = [\n",
    "    ((0, 1.5), 'Very Comfortable'),\n",
    "    ((1.5, 2.5), 'Comfortable'),\n",
    "    ((2.5, 3.5), 'Medium'),\n",
    "    ((3.5, 4.5), 'Uncomfortable'),\n",
    "    ((4.5, 6.0), 'Very Uncomfortable')\n",
    "]\n",
    "\n",
    "# Load data\n",
    "(x_rave, y_rave, z_rave), (x_raw, y_raw, z_raw) = load_rave_and_nonrave(\n",
    "    \"data/X-RAVE.csv\", \"data/Y-RAVE.csv\", \"data/Z-RAVE.csv\"\n",
    ")\n"
   ]
  },
  {
   "cell_type": "code",
   "execution_count": null,
   "id": "8941dd37",
   "metadata": {},
   "outputs": [],
   "source": [
    "# Every 5th running average\n",
    "x5 = x_rave.iloc[4::5]\n",
    "y5 = y_rave.iloc[4::5]\n",
    "z5 = z_rave.iloc[4::5]\n",
    "\n",
    "Cx = x5['ISO_WD']\n",
    "Cy = y5['ISO_WD']\n",
    "Cz = z5['EN_WB']\n",
    "\n",
    "\n",
    "# Percentile inputs\n",
    "Ax95 = np.percentile(Cx, 95)\n",
    "Ay95 = np.percentile(Cy, 95)\n",
    "Az95 = np.percentile(Cz, 95)\n",
    "Ax50 = np.percentile(Cx, 50)\n",
    "Ay50 = np.percentile(Cy, 50)\n",
    "Az50 = np.percentile(Cz, 50)\n",
    "\n",
    "# Calculate comfort indices\n",
    "N_MV = compute_nmv(Ax95, Ay95, Az95)\n",
    "N_VD = compute_nvd(Ax50, Ay50, Az50, Ay95)\n",
    "\n",
    "print(f\"N_M_V = {N_MV:.2f} → {categorize(N_MV, categories)}\")\n",
    "print(f\"N_V_D = {N_VD:.2f} → {categorize(N_VD, categories)}\")"
   ]
  },
  {
   "cell_type": "code",
   "execution_count": null,
   "id": "8fe5b90d",
   "metadata": {},
   "outputs": [],
   "source": [
    "# Mean Comfort Index plot\n",
    "plot_comfort_thresholds(N_MV, N_VD, categories)"
   ]
  },
  {
   "cell_type": "code",
   "execution_count": null,
   "id": "7b6b3be7",
   "metadata": {},
   "outputs": [],
   "source": [
    "# Full time vector \n",
    "t_all = pd.to_timedelta(x_raw['Number'], unit='s')\n",
    "# Downsampled time vector to match 5s interval RAVE slices\n",
    "t_5s = t_all[4::5]"
   ]
  },
  {
   "cell_type": "code",
   "execution_count": null,
   "id": "b2615030",
   "metadata": {},
   "outputs": [],
   "source": [
    "# 5s signals plot\n",
    "plot_comfort_timeseries(t_5s, Cx, Cy, Cz)"
   ]
  },
  {
   "cell_type": "code",
   "execution_count": null,
   "id": "a49ad5bf",
   "metadata": {},
   "outputs": [],
   "source": [
    "#### For av calculation, note that I'm not implementing the kb control flow ###\n",
    "\n",
    "# Compute AV\n",
    "X_ISO = x_raw['ISO_WD']\n",
    "Y_ISO = y_raw['ISO_WD']\n",
    "Z_ISO = z_raw['ISO_WB']\n",
    "\n",
    "a_v = compute_av(X_ISO, Y_ISO, Z_ISO)\n",
    "\n",
    "# Compute a_v \n",
    "a_v_5s = compute_av(x5['ISO_WD'], y5['ISO_WD'], z5['ISO_WB'])\n",
    "\n",
    "print(f\"a_v (1s ISO composite) = {np.mean(a_v):.3f} m/s²\")\n",
    "print(f\"a_v_5s (from RAVE)      = {np.mean(a_v_5s):.3f} m/s²\")\n",
    "\n"
   ]
  },
  {
   "cell_type": "code",
   "execution_count": null,
   "id": "b918f6dc",
   "metadata": {},
   "outputs": [],
   "source": [
    "plot_iso_timeseries(t_all, X_ISO, Y_ISO, Z_ISO, a_v, a_v_5s, t_5s)"
   ]
  },
  {
   "cell_type": "code",
   "execution_count": null,
   "id": "c2ac2075",
   "metadata": {},
   "outputs": [],
   "source": [
    "# VDV data\n",
    "X_VDV = x_raw['WD4th_VDV']\n",
    "Y_VDV = y_raw['WD4th_VDV']\n",
    "Z_VDV = z_raw['WK4th_VDV']"
   ]
  },
  {
   "cell_type": "code",
   "execution_count": null,
   "id": "7d7d4dd9",
   "metadata": {},
   "outputs": [],
   "source": [
    "plot_vdv_over_time(t_all, X_VDV, Y_VDV, Z_VDV)"
   ]
  },
  {
   "cell_type": "code",
   "execution_count": null,
   "id": "69746099",
   "metadata": {},
   "outputs": [],
   "source": [
    "ratios = [\n",
    "    compute_vdv_ratios(X_VDV, compute_vdv(X_ISO)),\n",
    "    compute_vdv_ratios(Y_VDV, compute_vdv(Y_ISO)),\n",
    "    compute_vdv_ratios(Z_VDV, compute_vdv(Z_ISO))\n",
    "]"
   ]
  },
  {
   "cell_type": "code",
   "execution_count": null,
   "id": "01f36c8e",
   "metadata": {},
   "outputs": [],
   "source": [
    "plot_ratio_comparison(t_all, ratios, labels=['X', 'Y', 'Z'])"
   ]
  }
 ],
 "metadata": {
  "kernelspec": {
   "display_name": "rir_ml",
   "language": "python",
   "name": "python3"
  },
  "language_info": {
   "name": "python",
   "version": "3.11.13"
  }
 },
 "nbformat": 4,
 "nbformat_minor": 5
}
