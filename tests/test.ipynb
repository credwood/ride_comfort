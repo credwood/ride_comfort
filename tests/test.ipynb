{
 "cells": [
  {
   "cell_type": "code",
   "execution_count": 1,
   "id": "0c7e747f",
   "metadata": {},
   "outputs": [
    {
     "name": "stdout",
     "output_type": "stream",
     "text": [
      "Repo root: C:\\Users\\charysse\\Documents\\ride_comfort\n",
      "Import base: C:\\Users\\charysse\\Documents\\ride_comfort\\analysis\n",
      "cwd: C:\\Users\\charysse\\Documents\\ride_comfort\n"
     ]
    }
   ],
   "source": [
    "# Notebook bootstrap: set repo root and import path, keep modules' relative paths working\n",
    "import os, sys\n",
    "from pathlib import Path\n",
    "\n",
    "ROOT = Path(\"..\").resolve()          \n",
    "SRC  = ROOT / \"analysis\"                  \n",
    "\n",
    "TARGET = SRC if SRC.is_dir() else ROOT\n",
    "\n",
    "# Put TARGET at the front of sys.path (avoid duplicates\n",
    "p = str(TARGET)\n",
    "if p not in sys.path:\n",
    "    sys.path.insert(0, p)\n",
    "\n",
    "# Make cwd the repo root so modules using relative paths still work\n",
    "os.chdir(ROOT)\n",
    "\n",
    "print(\"Repo root:\", ROOT)\n",
    "print(\"Import base:\", TARGET)\n",
    "print(\"cwd:\", Path.cwd())\n",
    "\n",
    "# optional: auto-reload imports when underlying files change\n",
    "# %load_ext autoreload\n",
    "# %autoreload 2\n",
    "\n"
   ]
  },
  {
   "cell_type": "code",
   "execution_count": 2,
   "id": "8f3f1126",
   "metadata": {},
   "outputs": [],
   "source": [
    "from tests.test_dataloader import test_load_all_triax\n",
    "\n",
    "test_load_all_triax()"
   ]
  }
 ],
 "metadata": {
  "kernelspec": {
   "display_name": "rir_ml",
   "language": "python",
   "name": "python3"
  },
  "language_info": {
   "codemirror_mode": {
    "name": "ipython",
    "version": 3
   },
   "file_extension": ".py",
   "mimetype": "text/x-python",
   "name": "python",
   "nbconvert_exporter": "python",
   "pygments_lexer": "ipython3",
   "version": "3.11.13"
  }
 },
 "nbformat": 4,
 "nbformat_minor": 5
}
