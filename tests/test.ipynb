{
 "cells": [
  {
   "cell_type": "code",
   "execution_count": 1,
   "id": "0c7e747f",
   "metadata": {},
   "outputs": [
    {
     "name": "stdout",
     "output_type": "stream",
     "text": [
      "Repo root: C:\\Users\\charysse\\Documents\\ride_comfort\n",
      "Import base: C:\\Users\\charysse\\Documents\\ride_comfort\\analysis\n",
      "cwd: C:\\Users\\charysse\\Documents\\ride_comfort\n"
     ]
    }
   ],
   "source": [
    "# Notebook bootstrap: set repo root and import path, keep modules' relative paths working\n",
    "import os, sys\n",
    "from pathlib import Path\n",
    "\n",
    "ROOT = Path(\"..\").resolve()          \n",
    "SRC  = ROOT / \"analysis\"                  \n",
    "\n",
    "TARGET = SRC if SRC.is_dir() else ROOT\n",
    "\n",
    "# Put TARGET at the front of sys.path (avoid duplicates\n",
    "p = str(TARGET)\n",
    "if p not in sys.path:\n",
    "    sys.path.insert(0, p)\n",
    "\n",
    "# Make cwd the repo root so modules using relative paths still work\n",
    "os.chdir(ROOT)\n",
    "\n",
    "print(\"Repo root:\", ROOT)\n",
    "print(\"Import base:\", TARGET)\n",
    "print(\"cwd:\", Path.cwd())\n",
    "\n",
    "# optional: auto-reload imports when underlying files change\n",
    "# %load_ext autoreload\n",
    "# %autoreload 2\n",
    "\n"
   ]
  },
  {
   "cell_type": "code",
   "execution_count": 2,
   "id": "8f3f1126",
   "metadata": {},
   "outputs": [],
   "source": [
    "from tests.test_dataloader import test_load_all_triax, test_load_all_triax_x_y_flip\n",
    "\n",
    "test_load_all_triax()"
   ]
  },
  {
   "cell_type": "code",
   "execution_count": 3,
   "id": "1d80e82e",
   "metadata": {},
   "outputs": [],
   "source": [
    "test_load_all_triax_x_y_flip()"
   ]
  },
  {
   "cell_type": "code",
   "execution_count": 2,
   "id": "b1483733",
   "metadata": {},
   "outputs": [],
   "source": [
    "from data_class.ride_class import Ride\n",
    "\n",
    "ride = Ride(\"001\", \"5_29_2020\")\n"
   ]
  },
  {
   "cell_type": "code",
   "execution_count": 3,
   "id": "87f6a887",
   "metadata": {},
   "outputs": [
    {
     "data": {
      "text/plain": [
       "RideMetaData(ride_id=001, date=2020-05-29)"
      ]
     },
     "execution_count": 3,
     "metadata": {},
     "output_type": "execute_result"
    }
   ],
   "source": [
    "ride"
   ]
  },
  {
   "cell_type": "code",
   "execution_count": 4,
   "id": "bbbeda3e",
   "metadata": {},
   "outputs": [
    {
     "data": {
      "text/plain": [
       "{'ride_id': '001',\n",
       " 'date': '2020-05-29',\n",
       " 'num_cars': 2,\n",
       " 'load': 'AW3',\n",
       " 'time': '1:00',\n",
       " 'speed': 25,\n",
       " 'track': 'SB',\n",
       " 'track_type': 'Tun, DF',\n",
       " 'location': 'Beacon Hill',\n",
       " 'direction': 'SB',\n",
       " 'files': [],\n",
       " 'metrics_dict': None}"
      ]
     },
     "execution_count": 4,
     "metadata": {},
     "output_type": "execute_result"
    }
   ],
   "source": [
    "ride.__dict__"
   ]
  },
  {
   "cell_type": "code",
   "execution_count": null,
   "id": "a4aab5c6",
   "metadata": {},
   "outputs": [],
   "source": []
  }
 ],
 "metadata": {
  "kernelspec": {
   "display_name": "rir_ml",
   "language": "python",
   "name": "python3"
  },
  "language_info": {
   "codemirror_mode": {
    "name": "ipython",
    "version": 3
   },
   "file_extension": ".py",
   "mimetype": "text/x-python",
   "name": "python",
   "nbconvert_exporter": "python",
   "pygments_lexer": "ipython3",
   "version": "3.11.13"
  }
 },
 "nbformat": 4,
 "nbformat_minor": 5
}
